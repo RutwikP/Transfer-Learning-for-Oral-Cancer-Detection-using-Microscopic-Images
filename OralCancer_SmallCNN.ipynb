{
  "nbformat": 4,
  "nbformat_minor": 0,
  "metadata": {
    "colab": {
      "name": "OralCancer_SmallCNN.ipynb",
      "provenance": [],
      "authorship_tag": "ABX9TyODHoNX/G/TaNfFxEQ7/ES5",
      "include_colab_link": true
    },
    "kernelspec": {
      "name": "python3",
      "display_name": "Python 3"
    },
    "accelerator": "GPU"
  },
  "cells": [
    {
      "cell_type": "markdown",
      "metadata": {
        "id": "view-in-github",
        "colab_type": "text"
      },
      "source": [
        "<a href=\"https://colab.research.google.com/github/RutwikP/Transfer-Learning-for-Oral-Cancer-Detection-using-Microscopic-Images/blob/main/OralCancer_SmallCNN.ipynb\" target=\"_parent\"><img src=\"https://colab.research.google.com/assets/colab-badge.svg\" alt=\"Open In Colab\"/></a>"
      ]
    },
    {
      "cell_type": "markdown",
      "metadata": {
        "id": "Hb9OJFyIaiNk"
      },
      "source": [
        "IMPORTING THE LIBS"
      ]
    },
    {
      "cell_type": "code",
      "metadata": {
        "id": "J-us-sL8ZnyL"
      },
      "source": [
        "import tensorflow as tf\n",
        "import numpy as np\n",
        "from keras.preprocessing.image import ImageDataGenerator\n",
        "import cv2\n",
        "import matplotlib.pyplot as plt\n"
      ],
      "execution_count": null,
      "outputs": []
    },
    {
      "cell_type": "code",
      "metadata": {
        "id": "PWpW6PjaW-iP",
        "colab": {
          "base_uri": "https://localhost:8080/",
          "height": 34
        },
        "outputId": "778cae4a-dc22-44cd-8bdb-72b3e5ed4782"
      },
      "source": [
        "from google.colab import drive\n",
        "drive.mount('/content/gdrive')"
      ],
      "execution_count": null,
      "outputs": [
        {
          "output_type": "stream",
          "text": [
            "Mounted at /content/gdrive\n"
          ],
          "name": "stdout"
        }
      ]
    },
    {
      "cell_type": "code",
      "metadata": {
        "id": "uKsBaYYNXAzO",
        "colab": {
          "base_uri": "https://localhost:8080/",
          "height": 34
        },
        "outputId": "66632235-b184-492b-f8b1-7b10f8c6900d"
      },
      "source": [
        "from google.colab import drive\n",
        "drive.mount('/content/drive')"
      ],
      "execution_count": null,
      "outputs": [
        {
          "output_type": "stream",
          "text": [
            "Mounted at /content/drive\n"
          ],
          "name": "stdout"
        }
      ]
    },
    {
      "cell_type": "markdown",
      "metadata": {
        "id": "p00F_He6dNFP"
      },
      "source": [
        "DATA PREPROCESSING"
      ]
    },
    {
      "cell_type": "code",
      "metadata": {
        "id": "xUL9uUcGdMW1"
      },
      "source": [
        "train_datagen = ImageDataGenerator(\n",
        "    rescale = 1./255,\n",
        "    shear_range = 0.2,\n",
        "    zoom_range = 0.01,\n",
        "    horizontal_flip = True\n",
        ")\n"
      ],
      "execution_count": null,
      "outputs": []
    },
    {
      "cell_type": "code",
      "metadata": {
        "id": "ohmj59Eyd2q_",
        "colab": {
          "base_uri": "https://localhost:8080/",
          "height": 799
        },
        "outputId": "47ec8fd9-ff3b-4a62-d82d-6c0c1ef1a68a"
      },
      "source": [
        "import cv2\n",
        "training_set = train_datagen.flow_from_directory(\n",
        "    '/content/drive/My Drive/og3_train_set',\n",
        "    target_size = (256,256),\n",
        "    batch_size = 32,\n",
        "    class_mode = 'binary'\n",
        ")\n",
        "training_set.labels"
      ],
      "execution_count": null,
      "outputs": [
        {
          "output_type": "stream",
          "text": [
            "Found 968 images belonging to 2 classes.\n"
          ],
          "name": "stdout"
        },
        {
          "output_type": "execute_result",
          "data": {
            "text/plain": [
              "array([0, 0, 0, 0, 0, 0, 0, 0, 0, 0, 0, 0, 0, 0, 0, 0, 0, 0, 0, 0, 0, 0,\n",
              "       0, 0, 0, 0, 0, 0, 0, 0, 0, 0, 0, 0, 0, 0, 0, 0, 0, 0, 0, 0, 0, 0,\n",
              "       0, 0, 0, 0, 0, 0, 0, 0, 0, 0, 0, 0, 0, 0, 0, 0, 0, 0, 0, 0, 0, 0,\n",
              "       0, 0, 0, 0, 0, 0, 0, 0, 0, 0, 0, 0, 0, 0, 0, 0, 0, 0, 0, 0, 0, 0,\n",
              "       0, 0, 0, 0, 0, 0, 0, 0, 0, 0, 0, 0, 0, 0, 0, 0, 0, 0, 0, 0, 0, 0,\n",
              "       0, 0, 0, 0, 0, 0, 0, 0, 0, 0, 0, 0, 0, 0, 0, 0, 0, 0, 0, 0, 0, 0,\n",
              "       0, 0, 0, 0, 0, 0, 0, 0, 0, 0, 0, 0, 0, 0, 0, 0, 0, 0, 0, 0, 0, 0,\n",
              "       0, 0, 0, 0, 0, 0, 0, 0, 0, 0, 0, 0, 0, 0, 0, 0, 0, 0, 0, 0, 0, 0,\n",
              "       0, 0, 0, 0, 0, 0, 0, 0, 0, 0, 0, 0, 0, 0, 0, 0, 0, 0, 0, 0, 0, 0,\n",
              "       0, 0, 0, 0, 0, 0, 0, 0, 0, 0, 0, 0, 0, 0, 0, 0, 0, 0, 0, 0, 0, 0,\n",
              "       0, 0, 0, 0, 0, 0, 0, 0, 0, 0, 0, 0, 0, 0, 0, 0, 0, 0, 0, 0, 0, 0,\n",
              "       0, 0, 0, 0, 0, 0, 0, 0, 0, 0, 0, 0, 0, 0, 0, 0, 0, 0, 0, 0, 0, 0,\n",
              "       0, 0, 0, 0, 0, 0, 0, 0, 0, 0, 0, 0, 0, 0, 0, 0, 0, 0, 0, 0, 0, 0,\n",
              "       0, 0, 0, 0, 0, 0, 0, 0, 0, 0, 0, 0, 0, 0, 0, 0, 0, 0, 0, 0, 0, 0,\n",
              "       0, 0, 0, 0, 0, 0, 0, 0, 0, 0, 0, 0, 0, 0, 0, 0, 0, 0, 0, 0, 0, 0,\n",
              "       0, 0, 0, 0, 0, 0, 0, 0, 0, 0, 0, 0, 0, 0, 0, 0, 0, 0, 0, 0, 0, 0,\n",
              "       0, 0, 0, 0, 0, 0, 0, 0, 0, 0, 0, 0, 0, 0, 0, 0, 0, 0, 0, 0, 0, 0,\n",
              "       0, 0, 0, 0, 0, 0, 0, 0, 0, 0, 0, 0, 0, 0, 0, 0, 0, 0, 0, 0, 0, 0,\n",
              "       0, 0, 0, 0, 0, 0, 0, 0, 0, 0, 0, 0, 0, 0, 0, 0, 0, 0, 0, 0, 0, 0,\n",
              "       0, 0, 0, 0, 0, 0, 0, 0, 0, 0, 0, 0, 0, 0, 0, 0, 0, 0, 0, 0, 0, 0,\n",
              "       0, 0, 0, 0, 0, 0, 0, 0, 0, 0, 0, 0, 0, 0, 0, 0, 0, 0, 0, 0, 0, 0,\n",
              "       0, 0, 0, 0, 0, 0, 0, 0, 0, 0, 0, 0, 0, 0, 0, 0, 0, 0, 0, 0, 0, 0,\n",
              "       0, 0, 0, 0, 0, 0, 0, 0, 0, 0, 0, 0, 0, 0, 0, 0, 0, 0, 0, 0, 0, 0,\n",
              "       0, 0, 0, 0, 0, 0, 0, 0, 0, 0, 0, 0, 0, 0, 0, 0, 0, 0, 0, 0, 0, 0,\n",
              "       0, 0, 0, 0, 0, 0, 0, 0, 0, 0, 0, 0, 0, 0, 0, 0, 0, 0, 0, 0, 0, 0,\n",
              "       0, 0, 0, 0, 0, 0, 0, 0, 0, 0, 0, 0, 0, 0, 0, 0, 0, 0, 0, 0, 0, 0,\n",
              "       0, 0, 0, 0, 0, 0, 0, 0, 0, 0, 0, 0, 0, 0, 0, 0, 0, 0, 0, 0, 0, 0,\n",
              "       0, 0, 0, 0, 0, 0, 0, 0, 0, 0, 0, 0, 0, 0, 0, 0, 0, 0, 0, 0, 0, 0,\n",
              "       0, 0, 0, 0, 0, 0, 0, 0, 0, 0, 0, 0, 0, 0, 0, 0, 0, 0, 0, 0, 0, 0,\n",
              "       0, 0, 0, 0, 0, 0, 0, 0, 0, 0, 0, 0, 0, 0, 0, 0, 0, 0, 0, 0, 0, 0,\n",
              "       0, 0, 0, 0, 0, 0, 0, 0, 0, 0, 0, 0, 0, 0, 0, 0, 0, 0, 0, 0, 0, 0,\n",
              "       0, 0, 0, 0, 0, 0, 0, 0, 0, 0, 0, 0, 0, 0, 0, 0, 0, 0, 0, 0, 0, 0,\n",
              "       0, 0, 0, 0, 0, 0, 0, 0, 0, 0, 0, 0, 0, 0, 0, 0, 0, 0, 0, 0, 0, 0,\n",
              "       0, 0, 0, 0, 0, 0, 0, 0, 0, 0, 0, 0, 0, 0, 0, 0, 0, 0, 0, 0, 0, 1,\n",
              "       1, 1, 1, 1, 1, 1, 1, 1, 1, 1, 1, 1, 1, 1, 1, 1, 1, 1, 1, 1, 1, 1,\n",
              "       1, 1, 1, 1, 1, 1, 1, 1, 1, 1, 1, 1, 1, 1, 1, 1, 1, 1, 1, 1, 1, 1,\n",
              "       1, 1, 1, 1, 1, 1, 1, 1, 1, 1, 1, 1, 1, 1, 1, 1, 1, 1, 1, 1, 1, 1,\n",
              "       1, 1, 1, 1, 1, 1, 1, 1, 1, 1, 1, 1, 1, 1, 1, 1, 1, 1, 1, 1, 1, 1,\n",
              "       1, 1, 1, 1, 1, 1, 1, 1, 1, 1, 1, 1, 1, 1, 1, 1, 1, 1, 1, 1, 1, 1,\n",
              "       1, 1, 1, 1, 1, 1, 1, 1, 1, 1, 1, 1, 1, 1, 1, 1, 1, 1, 1, 1, 1, 1,\n",
              "       1, 1, 1, 1, 1, 1, 1, 1, 1, 1, 1, 1, 1, 1, 1, 1, 1, 1, 1, 1, 1, 1,\n",
              "       1, 1, 1, 1, 1, 1, 1, 1, 1, 1, 1, 1, 1, 1, 1, 1, 1, 1, 1, 1, 1, 1,\n",
              "       1, 1, 1, 1, 1, 1, 1, 1, 1, 1, 1, 1, 1, 1, 1, 1, 1, 1, 1, 1, 1, 1,\n",
              "       1, 1, 1, 1, 1, 1, 1, 1, 1, 1, 1, 1, 1, 1, 1, 1, 1, 1, 1, 1, 1, 1],\n",
              "      dtype=int32)"
            ]
          },
          "metadata": {
            "tags": []
          },
          "execution_count": 5
        }
      ]
    },
    {
      "cell_type": "code",
      "metadata": {
        "id": "5x5F41qmiTVK",
        "colab": {
          "base_uri": "https://localhost:8080/",
          "height": 34
        },
        "outputId": "7985d579-1c54-4545-ca62-101b06f56cc8"
      },
      "source": [
        "training_set.class_indices"
      ],
      "execution_count": null,
      "outputs": [
        {
          "output_type": "execute_result",
          "data": {
            "text/plain": [
              "{'Cancerous': 0, 'Normal': 1}"
            ]
          },
          "metadata": {
            "tags": []
          },
          "execution_count": 6
        }
      ]
    },
    {
      "cell_type": "code",
      "metadata": {
        "id": "-38ZqYxBd51Q"
      },
      "source": [
        "valid_datagen = ImageDataGenerator(rescale = 1./255)"
      ],
      "execution_count": null,
      "outputs": []
    },
    {
      "cell_type": "code",
      "metadata": {
        "id": "K4uZc73Gd-Ec",
        "colab": {
          "base_uri": "https://localhost:8080/",
          "height": 136
        },
        "outputId": "2ea3a9fe-db2e-4aed-a634-8880a81cde8c"
      },
      "source": [
        "valid_set = valid_datagen.flow_from_directory(\n",
        "    '/content/drive/My Drive/og3_valid_set',\n",
        "    target_size = (256,256),\n",
        "    batch_size = 32,\n",
        "    class_mode = 'binary'\n",
        ")\n",
        "valid_set.labels"
      ],
      "execution_count": null,
      "outputs": [
        {
          "output_type": "stream",
          "text": [
            "Found 124 images belonging to 2 classes.\n"
          ],
          "name": "stdout"
        },
        {
          "output_type": "execute_result",
          "data": {
            "text/plain": [
              "array([0, 0, 0, 0, 0, 0, 0, 0, 0, 0, 0, 0, 0, 0, 0, 0, 0, 0, 0, 0, 0, 0,\n",
              "       0, 0, 0, 0, 0, 0, 0, 0, 0, 0, 0, 0, 0, 0, 0, 0, 0, 0, 0, 0, 0, 0,\n",
              "       0, 0, 0, 0, 0, 0, 0, 0, 0, 0, 0, 0, 0, 0, 0, 0, 0, 0, 0, 0, 0, 0,\n",
              "       0, 0, 0, 0, 0, 0, 0, 0, 0, 0, 0, 0, 0, 0, 0, 0, 0, 0, 0, 0, 0, 0,\n",
              "       0, 0, 0, 0, 0, 0, 1, 1, 1, 1, 1, 1, 1, 1, 1, 1, 1, 1, 1, 1, 1, 1,\n",
              "       1, 1, 1, 1, 1, 1, 1, 1, 1, 1, 1, 1, 1, 1], dtype=int32)"
            ]
          },
          "metadata": {
            "tags": []
          },
          "execution_count": 8
        }
      ]
    },
    {
      "cell_type": "code",
      "metadata": {
        "id": "0q2Lc3oFid90",
        "colab": {
          "base_uri": "https://localhost:8080/",
          "height": 34
        },
        "outputId": "61cd31aa-edf1-4d3f-a8a1-dbfd8e0d8026"
      },
      "source": [
        "valid_set.class_indices"
      ],
      "execution_count": null,
      "outputs": [
        {
          "output_type": "execute_result",
          "data": {
            "text/plain": [
              "{'Cancerous': 0, 'Normal': 1}"
            ]
          },
          "metadata": {
            "tags": []
          },
          "execution_count": 9
        }
      ]
    },
    {
      "cell_type": "code",
      "metadata": {
        "id": "jD7pmrKkPfLX",
        "colab": {
          "base_uri": "https://localhost:8080/",
          "height": 51
        },
        "outputId": "bae13fc1-4ec7-45b4-86b0-49da6347751f"
      },
      "source": [
        "#weight_for_cancer = (1 / 748)*(968)/2.0\n",
        "#weight_for_normal = (1 / 222)*(968)/2.0\n",
        "\n",
        "#class_weight = {0: weight_for_cancer, 1: weight_for_normal}\n",
        "\n",
        "#print('Weight for class 0: {:.2f}'.format(weight_for_cancer))\n",
        "#print('Weight for class 1: {:.2f}'.format(weight_for_normal))"
      ],
      "execution_count": null,
      "outputs": [
        {
          "output_type": "stream",
          "text": [
            "Weight for class 0: 0.65\n",
            "Weight for class 1: 2.18\n"
          ],
          "name": "stdout"
        }
      ]
    },
    {
      "cell_type": "markdown",
      "metadata": {
        "id": "jIaMSYD6eB4k"
      },
      "source": [
        "BUILDING THE CNN"
      ]
    },
    {
      "cell_type": "code",
      "metadata": {
        "id": "cvdhz5k1eAPk"
      },
      "source": [
        "model = tf.keras.models.Sequential()\n"
      ],
      "execution_count": null,
      "outputs": []
    },
    {
      "cell_type": "markdown",
      "metadata": {
        "id": "_Z1-EzDgeW_K"
      },
      "source": [
        "ADDING 1ST CONVOLUTIONAL LAYER"
      ]
    },
    {
      "cell_type": "code",
      "metadata": {
        "id": "w_KtNHygeWq0"
      },
      "source": [
        "model.add(tf.keras.layers.Conv2D(filters = 32, kernel_size = 3, padding = \"same\", activation = \"relu\", input_shape = [256,256,3]))\n"
      ],
      "execution_count": null,
      "outputs": []
    },
    {
      "cell_type": "markdown",
      "metadata": {
        "id": "GSFC6Z5ye22a"
      },
      "source": [
        "MAXPOOLING LAYER"
      ]
    },
    {
      "cell_type": "code",
      "metadata": {
        "id": "oT9sG38le70a"
      },
      "source": [
        "model.add(tf.keras.layers.MaxPool2D(pool_size = 2, strides= 2, padding = \"valid\"))"
      ],
      "execution_count": null,
      "outputs": []
    },
    {
      "cell_type": "markdown",
      "metadata": {
        "id": "fzGaF5KRK1kH"
      },
      "source": [
        "ADDING DROPOUT LAYER"
      ]
    },
    {
      "cell_type": "code",
      "metadata": {
        "id": "eu8h9Ka5K5Om"
      },
      "source": [
        "model.add(tf.keras.layers.Dropout(0.4))"
      ],
      "execution_count": null,
      "outputs": []
    },
    {
      "cell_type": "markdown",
      "metadata": {
        "id": "aT55XXslfSpC"
      },
      "source": [
        "ADDING 2nd CONV LAYER"
      ]
    },
    {
      "cell_type": "code",
      "metadata": {
        "id": "Ll_5YFaafXjx"
      },
      "source": [
        "model.add(tf.keras.layers.Conv2D(filters = 32, kernel_size = 3, padding = \"same\", activation = \"relu\"))"
      ],
      "execution_count": null,
      "outputs": []
    },
    {
      "cell_type": "markdown",
      "metadata": {
        "id": "w9ybCmDQfa9G"
      },
      "source": [
        "MAXPOOL LAYER"
      ]
    },
    {
      "cell_type": "code",
      "metadata": {
        "id": "kVl5fdXxfgOk"
      },
      "source": [
        "model.add(tf.keras.layers.MaxPool2D(pool_size = 2, strides= 2, padding = \"valid\"))"
      ],
      "execution_count": null,
      "outputs": []
    },
    {
      "cell_type": "markdown",
      "metadata": {
        "id": "tQVYUS8wKIuB"
      },
      "source": [
        "ADDING THE DROPOUT LAYER"
      ]
    },
    {
      "cell_type": "code",
      "metadata": {
        "id": "R7hGOMCOKLjU"
      },
      "source": [
        "model.add(tf.keras.layers.Dropout(0.4))"
      ],
      "execution_count": null,
      "outputs": []
    },
    {
      "cell_type": "markdown",
      "metadata": {
        "id": "f4IRz3Rzfmh7"
      },
      "source": [
        "ADDING THE FLATTENING LAYER"
      ]
    },
    {
      "cell_type": "code",
      "metadata": {
        "id": "f26TtvRNfpB3"
      },
      "source": [
        "model.add(tf.keras.layers.Flatten())"
      ],
      "execution_count": null,
      "outputs": []
    },
    {
      "cell_type": "markdown",
      "metadata": {
        "id": "VwjHVxgqfurB"
      },
      "source": [
        "ADDING THE 1ST FULLY CONNECTED LAYER"
      ]
    },
    {
      "cell_type": "code",
      "metadata": {
        "id": "K_zrjxzhf6qG"
      },
      "source": [
        "model.add(tf.keras.layers.Dense(units = 128, activation = 'relu'))\n"
      ],
      "execution_count": null,
      "outputs": []
    },
    {
      "cell_type": "markdown",
      "metadata": {
        "id": "Er6NOf67e48k"
      },
      "source": [
        "ADDING THE OUTPUT LAYER"
      ]
    },
    {
      "cell_type": "code",
      "metadata": {
        "id": "Kou6noyxgKHQ"
      },
      "source": [
        "model.add(tf.keras.layers.Dense(units = 2, activation = 'softmax'))"
      ],
      "execution_count": null,
      "outputs": []
    },
    {
      "cell_type": "markdown",
      "metadata": {
        "id": "s7SZVF63gRxf"
      },
      "source": [
        "COMPILING THE MODEL"
      ]
    },
    {
      "cell_type": "code",
      "metadata": {
        "id": "aKb2ielpgUm6"
      },
      "source": [
        "model.compile(\n",
        "    optimizer = 'adam',\n",
        "    loss = 'sparse_categorical_crossentropy',\n",
        "    metrics = ['sparse_categorical_accuracy'])"
      ],
      "execution_count": null,
      "outputs": []
    },
    {
      "cell_type": "code",
      "metadata": {
        "id": "PkaWJ1SRgi-r",
        "colab": {
          "base_uri": "https://localhost:8080/",
          "height": 459
        },
        "outputId": "fc03b509-abf2-4aa3-83ec-d60c3618ee46"
      },
      "source": [
        "model.summary()"
      ],
      "execution_count": null,
      "outputs": [
        {
          "output_type": "stream",
          "text": [
            "Model: \"sequential\"\n",
            "_________________________________________________________________\n",
            "Layer (type)                 Output Shape              Param #   \n",
            "=================================================================\n",
            "conv2d (Conv2D)              (None, 256, 256, 32)      896       \n",
            "_________________________________________________________________\n",
            "max_pooling2d (MaxPooling2D) (None, 128, 128, 32)      0         \n",
            "_________________________________________________________________\n",
            "dropout (Dropout)            (None, 128, 128, 32)      0         \n",
            "_________________________________________________________________\n",
            "conv2d_1 (Conv2D)            (None, 128, 128, 32)      9248      \n",
            "_________________________________________________________________\n",
            "max_pooling2d_1 (MaxPooling2 (None, 64, 64, 32)        0         \n",
            "_________________________________________________________________\n",
            "dropout_1 (Dropout)          (None, 64, 64, 32)        0         \n",
            "_________________________________________________________________\n",
            "flatten (Flatten)            (None, 131072)            0         \n",
            "_________________________________________________________________\n",
            "dense (Dense)                (None, 128)               16777344  \n",
            "_________________________________________________________________\n",
            "dense_1 (Dense)              (None, 2)                 258       \n",
            "=================================================================\n",
            "Total params: 16,787,746\n",
            "Trainable params: 16,787,746\n",
            "Non-trainable params: 0\n",
            "_________________________________________________________________\n"
          ],
          "name": "stdout"
        }
      ]
    },
    {
      "cell_type": "markdown",
      "metadata": {
        "id": "MB2VTzbhgsMu"
      },
      "source": [
        "TRAINING THE MODEL"
      ]
    },
    {
      "cell_type": "code",
      "metadata": {
        "id": "FECfyIOYgk_0",
        "colab": {
          "base_uri": "https://localhost:8080/",
          "height": 1000
        },
        "outputId": "09290686-bbd6-4f24-cca0-5c8ae8c2b0d9"
      },
      "source": [
        "steps_per_epoch = training_set.samples // training_set.batch_size\n",
        "validation_steps = valid_set.samples // valid_set.batch_size\n",
        "\n",
        "model.fit(training_set, epochs = 10, \n",
        "          steps_per_epoch=steps_per_epoch,\n",
        "          validation_data=valid_set,\n",
        "          validation_steps=validation_steps,\n",
        "          ).history #class_weight = class_weight"
      ],
      "execution_count": null,
      "outputs": [
        {
          "output_type": "stream",
          "text": [
            "Epoch 1/10\n",
            "30/30 [==============================] - 388s 13s/step - loss: 3.5737 - sparse_categorical_accuracy: 0.7019 - val_loss: 0.6858 - val_sparse_categorical_accuracy: 0.7396\n",
            "Epoch 2/10\n",
            "30/30 [==============================] - 97s 3s/step - loss: 0.5792 - sparse_categorical_accuracy: 0.7703 - val_loss: 0.6041 - val_sparse_categorical_accuracy: 0.7396\n",
            "Epoch 3/10\n",
            "30/30 [==============================] - 97s 3s/step - loss: 0.5508 - sparse_categorical_accuracy: 0.7746 - val_loss: 0.6183 - val_sparse_categorical_accuracy: 0.7396\n",
            "Epoch 4/10\n",
            "30/30 [==============================] - 98s 3s/step - loss: 0.5514 - sparse_categorical_accuracy: 0.7746 - val_loss: 0.6035 - val_sparse_categorical_accuracy: 0.7500\n",
            "Epoch 5/10\n",
            "30/30 [==============================] - 99s 3s/step - loss: 0.5513 - sparse_categorical_accuracy: 0.7724 - val_loss: 0.5896 - val_sparse_categorical_accuracy: 0.7812\n",
            "Epoch 6/10\n",
            "30/30 [==============================] - 98s 3s/step - loss: 0.5485 - sparse_categorical_accuracy: 0.7724 - val_loss: 0.5944 - val_sparse_categorical_accuracy: 0.7500\n",
            "Epoch 7/10\n",
            "30/30 [==============================] - 98s 3s/step - loss: 0.5492 - sparse_categorical_accuracy: 0.7682 - val_loss: 0.6165 - val_sparse_categorical_accuracy: 0.7292\n",
            "Epoch 8/10\n",
            "30/30 [==============================] - 98s 3s/step - loss: 0.5486 - sparse_categorical_accuracy: 0.7703 - val_loss: 0.6237 - val_sparse_categorical_accuracy: 0.7396\n",
            "Epoch 9/10\n",
            "30/30 [==============================] - 98s 3s/step - loss: 0.5231 - sparse_categorical_accuracy: 0.7756 - val_loss: 0.6423 - val_sparse_categorical_accuracy: 0.7708\n",
            "Epoch 10/10\n",
            "30/30 [==============================] - 97s 3s/step - loss: 0.5135 - sparse_categorical_accuracy: 0.7724 - val_loss: 0.5962 - val_sparse_categorical_accuracy: 0.7604\n"
          ],
          "name": "stdout"
        },
        {
          "output_type": "execute_result",
          "data": {
            "text/plain": [
              "{'loss': [3.573726177215576,\n",
              "  0.5792115330696106,\n",
              "  0.5508123636245728,\n",
              "  0.5513799786567688,\n",
              "  0.5512586832046509,\n",
              "  0.5485078692436218,\n",
              "  0.5492225289344788,\n",
              "  0.548585832118988,\n",
              "  0.5231059193611145,\n",
              "  0.5135157108306885],\n",
              " 'sparse_categorical_accuracy': [0.7019230723381042,\n",
              "  0.7702991366386414,\n",
              "  0.7745726704597473,\n",
              "  0.7745726704597473,\n",
              "  0.7724359035491943,\n",
              "  0.7724359035491943,\n",
              "  0.7681623697280884,\n",
              "  0.7702991366386414,\n",
              "  0.7756410241127014,\n",
              "  0.7724359035491943],\n",
              " 'val_loss': [0.6857979893684387,\n",
              "  0.6040838360786438,\n",
              "  0.6182683110237122,\n",
              "  0.6034827828407288,\n",
              "  0.5895652770996094,\n",
              "  0.5943892598152161,\n",
              "  0.6165199875831604,\n",
              "  0.6236849427223206,\n",
              "  0.6423075199127197,\n",
              "  0.5961834788322449],\n",
              " 'val_sparse_categorical_accuracy': [0.7395833134651184,\n",
              "  0.7395833134651184,\n",
              "  0.7395833134651184,\n",
              "  0.75,\n",
              "  0.78125,\n",
              "  0.75,\n",
              "  0.7291666865348816,\n",
              "  0.7395833134651184,\n",
              "  0.7708333134651184,\n",
              "  0.7604166865348816]}"
            ]
          },
          "metadata": {
            "tags": []
          },
          "execution_count": 22
        }
      ]
    },
    {
      "cell_type": "markdown",
      "metadata": {
        "id": "aJxnARPagxf3"
      },
      "source": [
        "EVALUATING THE MODEL"
      ]
    },
    {
      "cell_type": "code",
      "metadata": {
        "id": "pDJuHFQDgzwF",
        "colab": {
          "base_uri": "https://localhost:8080/",
          "height": 190
        },
        "outputId": "f3582054-27c8-4989-9ca5-f354a7843b64"
      },
      "source": [
        "''' Evaluating on Validation set '''\n",
        "\n",
        "valid_results = model.evaluate(valid_set)\n",
        "print(f'Valid results - Loss: {valid_results[0]} - Accuracy: {valid_results[1]*100}%')\n",
        "valid_preds = model.predict_classes(valid_set)\n",
        "print(valid_preds)"
      ],
      "execution_count": null,
      "outputs": [
        {
          "output_type": "stream",
          "text": [
            "4/4 [==============================] - 8s 2s/step - loss: 0.5999 - sparse_categorical_accuracy: 0.7581\n",
            "Valid results - Loss: 0.5998958349227905 - Accuracy: 75.80645084381104%\n",
            "WARNING:tensorflow:From <ipython-input-23-0bef05e01fc8>:5: Sequential.predict_classes (from tensorflow.python.keras.engine.sequential) is deprecated and will be removed after 2021-01-01.\n",
            "Instructions for updating:\n",
            "Please use instead:* `np.argmax(model.predict(x), axis=-1)`,   if your model does multi-class classification   (e.g. if it uses a `softmax` last-layer activation).* `(model.predict(x) > 0.5).astype(\"int32\")`,   if your model does binary classification   (e.g. if it uses a `sigmoid` last-layer activation).\n",
            "[0 0 0 0 0 0 0 0 0 0 0 0 0 0 0 0 0 0 0 0 0 0 0 0 0 0 0 0 0 0 0 0 0 0 0 0 0\n",
            " 0 0 0 0 0 0 0 0 0 0 0 0 0 0 0 0 0 0 0 0 0 0 0 0 0 0 0 0 0 0 0 0 0 0 0 0 0\n",
            " 0 0 0 0 0 0 0 0 0 0 0 0 0 0 0 0 0 0 0 0 0 0 0 0 0 0 0 0 0 0 0 0 0 0 0 0 0\n",
            " 0 0 0 0 0 0 0 0 0 0 0 0 0]\n"
          ],
          "name": "stdout"
        }
      ]
    },
    {
      "cell_type": "code",
      "metadata": {
        "id": "6O0QTsmbec4T",
        "colab": {
          "base_uri": "https://localhost:8080/",
          "height": 136
        },
        "outputId": "8e26572c-2d01-46f2-b018-305face50851"
      },
      "source": [
        "''' Evaluating on Test set '''\n",
        "\n",
        "test_datagen = ImageDataGenerator(rescale = 1./255)\n",
        "\n",
        "test_set = test_datagen.flow_from_directory(\n",
        "    '/content/drive/My Drive/og3_test_set',\n",
        "    target_size = (256,256),\n",
        "    batch_size = 32,\n",
        "    class_mode = 'binary',\n",
        "    shuffle=False\n",
        ")\n",
        "\n",
        "test_results = model.evaluate(test_set)\n",
        "print(f'Test results - Loss: {test_results[0]} - Accuracy: {test_results[1]*100}%')\n",
        "test_preds = model.predict_classes(test_set)\n",
        "print(test_preds)"
      ],
      "execution_count": null,
      "outputs": [
        {
          "output_type": "stream",
          "text": [
            "Found 124 images belonging to 2 classes.\n",
            "4/4 [==============================] - 34s 9s/step - loss: 0.6151 - sparse_categorical_accuracy: 0.7581\n",
            "Test results - Loss: 0.6150546073913574 - Accuracy: 75.80645084381104%\n",
            "[0 0 0 0 0 0 0 0 0 0 0 0 0 0 0 0 0 0 0 0 0 0 0 0 0 0 0 0 0 0 0 0 0 0 0 0 0\n",
            " 0 0 0 0 0 0 0 0 0 0 0 0 0 0 0 0 0 0 0 0 0 0 0 0 0 0 0 0 0 0 0 0 0 0 0 0 0\n",
            " 0 0 0 0 0 0 0 0 0 0 0 0 0 0 0 0 0 0 0 0 0 0 0 0 0 0 0 0 0 0 0 0 0 0 0 0 0\n",
            " 0 0 0 0 0 0 0 0 0 0 0 0 0]\n"
          ],
          "name": "stdout"
        }
      ]
    },
    {
      "cell_type": "code",
      "metadata": {
        "id": "Q2FMclyneiXe",
        "colab": {
          "base_uri": "https://localhost:8080/",
          "height": 85
        },
        "outputId": "3775c55d-789c-4c83-8b9d-ca70e4a02d7d"
      },
      "source": [
        " test_groundtruth_labels = test_set.labels\n",
        " print(test_groundtruth_labels)"
      ],
      "execution_count": null,
      "outputs": [
        {
          "output_type": "stream",
          "text": [
            "[0 0 0 0 0 0 0 0 0 0 0 0 0 0 0 0 0 0 0 0 0 0 0 0 0 0 0 0 0 0 0 0 0 0 0 0 0\n",
            " 0 0 0 0 0 0 0 0 0 0 0 0 0 0 0 0 0 0 0 0 0 0 0 0 0 0 0 0 0 0 0 0 0 0 0 0 0\n",
            " 0 0 0 0 0 0 0 0 0 0 0 0 0 0 0 0 0 0 0 0 1 1 1 1 1 1 1 1 1 1 1 1 1 1 1 1 1\n",
            " 1 1 1 1 1 1 1 1 1 1 1 1 1]\n"
          ],
          "name": "stdout"
        }
      ]
    },
    {
      "cell_type": "code",
      "metadata": {
        "id": "aj_gxMq3eneC"
      },
      "source": [
        "from sklearn.metrics import roc_curve, auc\n",
        "from sklearn.metrics import roc_auc_score\n",
        "\n",
        "fpr, tpr, _ = roc_curve(test_set.labels, test_preds)\n",
        "roc_auc = auc(fpr, tpr)\n"
      ],
      "execution_count": null,
      "outputs": []
    },
    {
      "cell_type": "code",
      "metadata": {
        "id": "NxH5UhlZepni",
        "colab": {
          "base_uri": "https://localhost:8080/",
          "height": 295
        },
        "outputId": "9ef029c2-05a2-46d4-b44e-b6c82e8695c7"
      },
      "source": [
        "plt.figure()\n",
        "lw = 3\n",
        "plt.plot(fpr, tpr, color='darkorange',\n",
        "         lw=lw, label='ROC curve (area = %0.2f)' % roc_auc)\n",
        "plt.plot([0, 1], [0, 1], color='navy', lw=lw, linestyle='--')\n",
        "plt.xlim([0.0, 1.0])\n",
        "plt.ylim([0.0, 1.05])\n",
        "plt.xlabel('False Positive Rate')\n",
        "plt.ylabel('True Positive Rate')\n",
        "plt.title('Receiver Operating Characteristic')\n",
        "plt.legend(loc=\"lower right\")\n",
        "plt.show()"
      ],
      "execution_count": null,
      "outputs": [
        {
          "output_type": "display_data",
          "data": {
            "image/png": "[encoded data removed]",
            "text/plain": [
              "<Figure size 432x288 with 1 Axes>"
            ]
          },
          "metadata": {
            "tags": [],
            "needs_background": "light"
          }
        }
      ]
    },
    {
      "cell_type": "code",
      "metadata": {
        "id": "JZx6LYoje2zm"
      },
      "source": [
        "import sklearn\n",
        "from sklearn.metrics import roc_curve, auc\n",
        "from sklearn.metrics import roc_auc_score\n",
        "def plot_roc(name, labels, preds):\n",
        "  fp, tp, _ = sklearn.metrics.roc_curve(test_set.labels, test_preds)\n",
        "\n",
        "  plt.plot(100*fp, 100*tp, label=name, linewidth=2)\n",
        "  plt.xlabel('False positives [%]')\n",
        "  plt.ylabel('True positives [%]')\n",
        "  plt.xlim([-0.5,100])\n",
        "  plt.ylim([0,100.5])\n",
        "  plt.grid(True)\n",
        "  ax = plt.gca()\n",
        "  ax.set_aspect('equal')"
      ],
      "execution_count": null,
      "outputs": []
    },
    {
      "cell_type": "code",
      "metadata": {
        "id": "zlyF5stofCgA",
        "colab": {
          "base_uri": "https://localhost:8080/",
          "height": 299
        },
        "outputId": "55364185-c87c-4b5f-f2e9-8ffbcc612666"
      },
      "source": [
        "from sklearn.metrics import roc_curve, auc\n",
        "from sklearn.metrics import roc_auc_score\n",
        "#plot_roc(\"Train Baseline\", train_labels, train_predictions_baseline, color=colors[0])\n",
        "plot_roc(\"Test Baseline\", test_set.labels, test_preds)\n",
        "plt.legend(loc='lower right')"
      ],
      "execution_count": null,
      "outputs": [
        {
          "output_type": "execute_result",
          "data": {
            "text/plain": [
              "<matplotlib.legend.Legend at 0x7fd23597a908>"
            ]
          },
          "metadata": {
            "tags": []
          },
          "execution_count": 39
        },
        {
          "output_type": "display_data",
          "data": {
            "image/png": "[encoded data removed]",
            "text/plain": [
              "<Figure size 432x288 with 1 Axes>"
            ]
          },
          "metadata": {
            "tags": [],
            "needs_background": "light"
          }
        }
      ]
    },
    {
      "cell_type": "code",
      "metadata": {
        "id": "a2t6QKvBfFGu",
        "colab": {
          "base_uri": "https://localhost:8080/",
          "height": 329
        },
        "outputId": "4567a578-8d8f-4c80-f641-2d4531c9588a"
      },
      "source": [
        "# Example of a confusion matrix in Python\n",
        "from sklearn.metrics import confusion_matrix\n",
        "expected = test_groundtruth_labels\n",
        "predicted = test_preds\n",
        "results = confusion_matrix(expected, predicted)\n",
        "print(results)\n",
        "\n",
        "import seaborn as sns\n",
        "import matplotlib.pyplot as plt     \n",
        "\n",
        "ax= plt.subplot()\n",
        "sns.heatmap(results, annot=True, ax = ax); #annot=True to annotate cells\n",
        "\n",
        "# labels, title and ticks\n",
        "ax.set_xlabel('Predicted labels');ax.set_ylabel('True labels'); \n",
        "ax.set_title('Confusion Matrix'); \n",
        "ax.xaxis.set_ticklabels(['0', '1']); ax.yaxis.set_ticklabels(['0', '1']);"
      ],
      "execution_count": null,
      "outputs": [
        {
          "output_type": "stream",
          "text": [
            "[[94  0]\n",
            " [30  0]]\n"
          ],
          "name": "stdout"
        },
        {
          "output_type": "display_data",
          "data": {
            "image/png": "[encoded data removed]",
            "text/plain": [
              "<Figure size 432x288 with 2 Axes>"
            ]
          },
          "metadata": {
            "tags": [],
            "needs_background": "light"
          }
        }
      ]
    },
    {
      "cell_type": "code",
      "metadata": {
        "id": "JwAzvb_lfIoy",
        "colab": {
          "base_uri": "https://localhost:8080/",
          "height": 295
        },
        "outputId": "344d94cf-720c-4359-a214-0174b9b6f494"
      },
      "source": [
        "import seaborn as sns\n",
        "import matplotlib.pyplot as plt \n",
        "from sklearn.metrics import confusion_matrix\n",
        "import itertools\n",
        "\n",
        "plt.imshow(results,cmap=plt.cm.Blues,interpolation='nearest')\n",
        "plt.colorbar()\n",
        "plt.title('Confusion Matrix without Normalization')\n",
        "plt.xlabel('Predicted')\n",
        "plt.ylabel('Actual')\n",
        "tick_marks = np.arange(len(set(test_groundtruth_labels))) # length of classes\n",
        "class_labels = ['0','1']\n",
        "tick_marks\n",
        "plt.xticks(tick_marks,class_labels)\n",
        "plt.yticks(tick_marks,class_labels)\n",
        "# plotting text value inside cells\n",
        "thresh = results.max() / 2.\n",
        "for i,j in itertools.product(range(results.shape[0]),range(results.shape[1])):\n",
        "    plt.text(j,i,format(results[i,j],'d'),horizontalalignment='center',color='white' if results[i,j] >thresh else 'black')\n",
        "plt.show();"
      ],
      "execution_count": null,
      "outputs": [
        {
          "output_type": "display_data",
          "data": {
            "image/png": "[encoded data removed]",
            "text/plain": [
              "<Figure size 432x288 with 2 Axes>"
            ]
          },
          "metadata": {
            "tags": [],
            "needs_background": "light"
          }
        }
      ]
    },
    {
      "cell_type": "code",
      "metadata": {
        "id": "6shf_SrDfXk-",
        "colab": {
          "base_uri": "https://localhost:8080/",
          "height": 88
        },
        "outputId": "c568753d-0c44-4221-bf43-35bf7f7b3e85"
      },
      "source": [
        "from sklearn.metrics import precision_recall_fscore_support\n",
        "y_true = test_set.labels\n",
        "y_pred = test_preds\n",
        "precision_recall_fscore_support(test_set.labels, test_preds, average='macro')"
      ],
      "execution_count": null,
      "outputs": [
        {
          "output_type": "stream",
          "text": [
            "/usr/local/lib/python3.6/dist-packages/sklearn/metrics/_classification.py:1272: UndefinedMetricWarning: Precision and F-score are ill-defined and being set to 0.0 in labels with no predicted samples. Use `zero_division` parameter to control this behavior.\n",
            "  _warn_prf(average, modifier, msg_start, len(result))\n"
          ],
          "name": "stderr"
        },
        {
          "output_type": "execute_result",
          "data": {
            "text/plain": [
              "(0.3790322580645161, 0.5, 0.43119266055045874, None)"
            ]
          },
          "metadata": {
            "tags": []
          },
          "execution_count": 47
        }
      ]
    }
  ]
}