{
  "nbformat": 4,
  "nbformat_minor": 0,
  "metadata": {
    "colab": {
      "name": "OralCancer_TransferLearning.ipynb",
      "provenance": [],
      "include_colab_link": true
    },
    "kernelspec": {
      "name": "python3",
      "display_name": "Python 3"
    },
    "accelerator": "GPU"
  },
  "cells": [
    {
      "cell_type": "markdown",
      "metadata": {
        "id": "view-in-github",
        "colab_type": "text"
      },
      "source": [
        "<a href=\"https://colab.research.google.com/github/RutwikP/Transfer-Learning-for-Oral-Cancer-Detection-using-Microscopic-Images/blob/main/OralCancer_TransferLearning.ipynb\" target=\"_parent\"><img src=\"https://colab.research.google.com/assets/colab-badge.svg\" alt=\"Open In Colab\"/></a>"
      ]
    },
    {
      "cell_type": "code",
      "metadata": {
        "id": "WIyr2h3o_7LW",
        "colab": {
          "base_uri": "https://localhost:8080/"
        },
        "outputId": "d7732cdd-25ec-4e0f-b510-a874feb379cc"
      },
      "source": [
        "import itertools\n",
        "import os\n",
        "\n",
        "import matplotlib.pylab as plt\n",
        "import numpy as np\n",
        "\n",
        "import sklearn\n",
        "from sklearn.metrics import confusion_matrix\n",
        "\n",
        "import tensorflow as tf\n",
        "import tensorflow_hub as hub\n",
        "\n",
        "print(\"TF version:\", tf.__version__)\n",
        "\n",
        "\n",
        "print(\"Hub version:\", hub.__version__)\n",
        "print(\"GPU is\", \"available\" if tf.test.is_gpu_available() else \"NOT AVAILABLE\")"
      ],
      "execution_count": null,
      "outputs": [
        {
          "output_type": "stream",
          "text": [
            "TF version: 2.4.1\n",
            "Hub version: 0.11.0\n",
            "WARNING:tensorflow:From <ipython-input-1-90b3d5959dc7>:17: is_gpu_available (from tensorflow.python.framework.test_util) is deprecated and will be removed in a future version.\n",
            "Instructions for updating:\n",
            "Use `tf.config.list_physical_devices('GPU')` instead.\n",
            "GPU is available\n"
          ],
          "name": "stdout"
        }
      ]
    },
    {
      "cell_type": "code",
      "metadata": {
        "id": "lJES76KP__Jv",
        "colab": {
          "base_uri": "https://localhost:8080/"
        },
        "outputId": "40e2d25b-c573-40bc-c3ff-8118538d3093"
      },
      "source": [
        "\n",
        "# For inception_v3 and mobilenet_v2\n",
        "module_selection = (\"inception_v3\", 299) #@param [\"(\\\"mobilenet_v2_100_224\\\", 224)\", \"(\\\"inception_v3\\\", 299)\"] {type:\"raw\", allow-input: true}\n",
        "handle_base, pixels = module_selection\n",
        "MODULE_HANDLE =\"https://tfhub.dev/google/imagenet/{}/feature_vector/4\".format(handle_base)\n",
        "IMAGE_SIZE = (pixels, pixels)\n",
        "print(\"Using {} with input size {}\".format(MODULE_HANDLE, IMAGE_SIZE))\n",
        "\n",
        "\n",
        "'''\n",
        "# For resnet_50\n",
        "module_selection = (\"resnet_50\", 224)\n",
        "handle_base, pixels = module_selection\n",
        "MODULE_HANDLE =\"https://tfhub.dev/tensorflow/resnet_50/feature_vector/1\"\n",
        "IMAGE_SIZE = (pixels, pixels)\n",
        "print(\"Using {} with input size {}\".format(MODULE_HANDLE, IMAGE_SIZE))\n",
        "'''\n",
        "\n",
        "'''\n",
        "# For vggnet\n",
        "module_selection = (\"vggnet\", 224)\n",
        "handle_base, pixels = module_selection\n",
        "MODULE_HANDLE =\"https://tfhub.dev/deepmind/ganeval-cifar10-convnet/1\"\n",
        "IMAGE_SIZE = (pixels, pixels)\n",
        "print(\"Using {} with input size {}\".format(MODULE_HANDLE, IMAGE_SIZE))\n",
        "'''\n",
        "\n",
        "BATCH_SIZE = 32 #@param {type:\"integer\"}"
      ],
      "execution_count": null,
      "outputs": [
        {
          "output_type": "stream",
          "text": [
            "Using https://tfhub.dev/google/imagenet/inception_v3/feature_vector/4 with input size (299, 299)\n"
          ],
          "name": "stdout"
        }
      ]
    },
    {
      "cell_type": "code",
      "metadata": {
        "id": "1LWlDwjvAEcZ",
        "colab": {
          "base_uri": "https://localhost:8080/"
        },
        "outputId": "fd084949-e0ab-419d-c3b3-b8794dec2087"
      },
      "source": [
        "from google.colab import drive\n",
        "drive.mount('/content/gdrive')"
      ],
      "execution_count": null,
      "outputs": [
        {
          "output_type": "stream",
          "text": [
            "Mounted at /content/gdrive\n"
          ],
          "name": "stdout"
        }
      ]
    },
    {
      "cell_type": "code",
      "metadata": {
        "id": "ZC79YThuAGxd",
        "colab": {
          "base_uri": "https://localhost:8080/"
        },
        "outputId": "99600bd1-b20c-4390-83af-276c2dec1aaf"
      },
      "source": [
        "from google.colab import drive\n",
        "drive.mount('/content/drive')"
      ],
      "execution_count": null,
      "outputs": [
        {
          "output_type": "stream",
          "text": [
            "Mounted at /content/drive\n"
          ],
          "name": "stdout"
        }
      ]
    },
    {
      "cell_type": "code",
      "metadata": {
        "id": "ewemJT43AIsg",
        "colab": {
          "base_uri": "https://localhost:8080/"
        },
        "outputId": "8d75e299-4b7e-494b-ba92-8d65f71e9fc0"
      },
      "source": [
        "datagen_kwargs = dict(rescale=1./255)\n",
        "dataflow_kwargs = dict(target_size=IMAGE_SIZE, batch_size=BATCH_SIZE,\n",
        "                   interpolation=\"bilinear\")\n",
        "\n",
        "valid_datagen = tf.keras.preprocessing.image.ImageDataGenerator(\n",
        "    validation_split=0.1,\n",
        "   **datagen_kwargs)\n",
        "\n",
        "# TODO: replace directory link with new validation directory\n",
        "valid_generator = valid_datagen.flow_from_directory(\n",
        "    '/content/drive/My Drive/og3_valid_set',\n",
        "    shuffle = False,\n",
        "    **dataflow_kwargs\n",
        ")\n",
        "\n",
        "do_data_augmentation = True #@param {type:\"boolean\"}\n",
        "if do_data_augmentation:\n",
        "  train_datagen = tf.keras.preprocessing.image.ImageDataGenerator(\n",
        "      rotation_range=40,\n",
        "      horizontal_flip=True,\n",
        "      width_shift_range=0.2, height_shift_range=0.2,\n",
        "      shear_range=0.2, zoom_range=0.2, validation_split=0.1,\n",
        "      **datagen_kwargs)\n",
        "else:\n",
        "  train_datagen = valid_datagen\n",
        "\n",
        "# TODO: replace directory link with new train directory\n",
        "train_generator = train_datagen.flow_from_directory(\n",
        "    '/content/drive/My Drive/og3_train_set', shuffle=True, **dataflow_kwargs)"
      ],
      "execution_count": null,
      "outputs": [
        {
          "output_type": "stream",
          "text": [
            "Found 124 images belonging to 2 classes.\n",
            "Found 968 images belonging to 2 classes.\n"
          ],
          "name": "stdout"
        }
      ]
    },
    {
      "cell_type": "code",
      "metadata": {
        "id": "2nsEHxaCwSkU",
        "colab": {
          "base_uri": "https://localhost:8080/"
        },
        "outputId": "9ad08117-c28d-429d-ae29-58051f78babe"
      },
      "source": [
        "train_generator.class_indices"
      ],
      "execution_count": null,
      "outputs": [
        {
          "output_type": "execute_result",
          "data": {
            "text/plain": [
              "{'Cancerous': 0, 'Normal': 1}"
            ]
          },
          "metadata": {
            "tags": []
          },
          "execution_count": 6
        }
      ]
    },
    {
      "cell_type": "code",
      "metadata": {
        "id": "rDtfluPa0JKs"
      },
      "source": [
        "#weight_for_cancer = (1 / 748)*(968)/2.0\n",
        "#weight_for_normal = (1 / 222)*(968)/2.0\n",
        "\n",
        "#class_weight = {0: weight_for_cancer, 1: weight_for_normal}\n",
        "\n",
        "#print('Weight for class 0: {:.2f}'.format(weight_for_cancer))\n",
        "#print('Weight for class 1: {:.2f}'.format(weight_for_normal))"
      ],
      "execution_count": null,
      "outputs": []
    },
    {
      "cell_type": "code",
      "metadata": {
        "id": "n-ibcIHJAS__"
      },
      "source": [
        "do_fine_tuning = True #@param {type:\"boolean\"}"
      ],
      "execution_count": null,
      "outputs": []
    },
    {
      "cell_type": "code",
      "metadata": {
        "id": "eMV6Ae0cAVTM",
        "colab": {
          "base_uri": "https://localhost:8080/"
        },
        "outputId": "237c8c37-aa3c-4137-d727-04d1239e9587"
      },
      "source": [
        "print(\"Building model with\", MODULE_HANDLE)\n",
        "model = tf.keras.Sequential([\n",
        "    # Explicitly define the input shape so the model can be properly\n",
        "    # loaded by the TFLiteConverter\n",
        "    tf.keras.layers.InputLayer(input_shape=IMAGE_SIZE + (3,)),\n",
        "    hub.KerasLayer(MODULE_HANDLE, trainable=do_fine_tuning),\n",
        "    tf.keras.layers.Dropout(rate=0.2),\n",
        "    tf.keras.layers.Dense(train_generator.num_classes,\n",
        "                          kernel_regularizer=tf.keras.regularizers.l2(0.0001))\n",
        "])\n",
        "model.build((None,)+IMAGE_SIZE+(3,))\n",
        "model.summary()"
      ],
      "execution_count": null,
      "outputs": [
        {
          "output_type": "stream",
          "text": [
            "Building model with https://tfhub.dev/google/imagenet/inception_v3/feature_vector/4\n",
            "Model: \"sequential\"\n",
            "_________________________________________________________________\n",
            "Layer (type)                 Output Shape              Param #   \n",
            "=================================================================\n",
            "keras_layer (KerasLayer)     (None, 2048)              21802784  \n",
            "_________________________________________________________________\n",
            "dropout (Dropout)            (None, 2048)              0         \n",
            "_________________________________________________________________\n",
            "dense (Dense)                (None, 2)                 4098      \n",
            "=================================================================\n",
            "Total params: 21,806,882\n",
            "Trainable params: 21,772,450\n",
            "Non-trainable params: 34,432\n",
            "_________________________________________________________________\n"
          ],
          "name": "stdout"
        }
      ]
    },
    {
      "cell_type": "code",
      "metadata": {
        "id": "lteJD_FyAYCl"
      },
      "source": [
        "model.compile(\n",
        "  optimizer=tf.keras.optimizers.SGD(lr=0.005, momentum=0.9), \n",
        "  loss=tf.keras.losses.CategoricalCrossentropy(from_logits=True, label_smoothing=0.1),\n",
        "  metrics=['accuracy'])"
      ],
      "execution_count": null,
      "outputs": []
    },
    {
      "cell_type": "code",
      "metadata": {
        "id": "I1eY_uDoAaGz",
        "colab": {
          "base_uri": "https://localhost:8080/"
        },
        "outputId": "3e9ee336-59c2-46a0-fc0b-c812f7eed097"
      },
      "source": [
        "steps_per_epoch = train_generator.samples // train_generator.batch_size\n",
        "validation_steps = valid_generator.samples // valid_generator.batch_size\n",
        "hist = model.fit(\n",
        "    train_generator,\n",
        "    epochs=10, steps_per_epoch=steps_per_epoch,#class_weight = class_weight,\n",
        "    validation_data=valid_generator,\n",
        "    validation_steps=validation_steps).history"
      ],
      "execution_count": null,
      "outputs": [
        {
          "output_type": "stream",
          "text": [
            "Epoch 1/10\n",
            "30/30 [==============================] - 866s 28s/step - loss: 0.8021 - accuracy: 0.7484 - val_loss: 0.6245 - val_accuracy: 0.8958\n",
            "Epoch 2/10\n",
            "30/30 [==============================] - 122s 4s/step - loss: 0.6302 - accuracy: 0.8809 - val_loss: 0.8583 - val_accuracy: 0.6042\n",
            "Epoch 3/10\n",
            "30/30 [==============================] - 120s 4s/step - loss: 0.5891 - accuracy: 0.9067 - val_loss: 1.6602 - val_accuracy: 0.4271\n",
            "Epoch 4/10\n",
            "30/30 [==============================] - 120s 4s/step - loss: 0.6003 - accuracy: 0.9025 - val_loss: 0.6159 - val_accuracy: 0.8646\n",
            "Epoch 5/10\n",
            "30/30 [==============================] - 120s 4s/step - loss: 0.5716 - accuracy: 0.9247 - val_loss: 0.5722 - val_accuracy: 0.8958\n",
            "Epoch 6/10\n",
            "30/30 [==============================] - 120s 4s/step - loss: 0.5259 - accuracy: 0.9536 - val_loss: 0.8132 - val_accuracy: 0.7812\n",
            "Epoch 7/10\n",
            "30/30 [==============================] - 120s 4s/step - loss: 0.5110 - accuracy: 0.9596 - val_loss: 0.8722 - val_accuracy: 0.7812\n",
            "Epoch 8/10\n",
            "30/30 [==============================] - 120s 4s/step - loss: 0.5097 - accuracy: 0.9574 - val_loss: 0.6818 - val_accuracy: 0.8646\n",
            "Epoch 9/10\n",
            "30/30 [==============================] - 120s 4s/step - loss: 0.5087 - accuracy: 0.9553 - val_loss: 0.6021 - val_accuracy: 0.9271\n",
            "Epoch 10/10\n",
            "30/30 [==============================] - 120s 4s/step - loss: 0.4785 - accuracy: 0.9729 - val_loss: 0.5174 - val_accuracy: 0.9688\n"
          ],
          "name": "stdout"
        }
      ]
    },
    {
      "cell_type": "code",
      "metadata": {
        "id": "mxMCQAt8lWxH"
      },
      "source": [
        ""
      ],
      "execution_count": null,
      "outputs": []
    },
    {
      "cell_type": "code",
      "metadata": {
        "id": "6Zu4N8pwB-Eo",
        "colab": {
          "base_uri": "https://localhost:8080/"
        },
        "outputId": "01ea13ff-554c-4ee3-e51f-0f557951e138"
      },
      "source": [
        "test_datagen = tf.keras.preprocessing.image.ImageDataGenerator(\n",
        "   **datagen_kwargs)\n",
        "\n",
        "test_generator = test_datagen.flow_from_directory(\n",
        "    '/content/drive/MyDrive/og3_3_test_mom_images_2',\n",
        "    shuffle = False,\n",
        "    **dataflow_kwargs\n",
        ")\n",
        "\n",
        "#predictions = model.predict_classes(test_generator)\n",
        "#print(predictions)\n",
        "#probs = tf.nn.softmax(predictions)\n",
        "#print(probs)\n",
        "preds = model.evaluate(test_generator)\n",
        "preds = model.predict_classes(test_generator)"
      ],
      "execution_count": null,
      "outputs": [
        {
          "output_type": "stream",
          "text": [
            "Found 138 images belonging to 2 classes.\n",
            "5/5 [==============================] - 94s 23s/step - loss: 0.6965 - accuracy: 0.8406\n"
          ],
          "name": "stdout"
        },
        {
          "output_type": "stream",
          "text": [
            "/usr/local/lib/python3.7/dist-packages/tensorflow/python/keras/engine/sequential.py:450: UserWarning: `model.predict_classes()` is deprecated and will be removed after 2021-01-01. Please use instead:* `np.argmax(model.predict(x), axis=-1)`,   if your model does multi-class classification   (e.g. if it uses a `softmax` last-layer activation).* `(model.predict(x) > 0.5).astype(\"int32\")`,   if your model does binary classification   (e.g. if it uses a `sigmoid` last-layer activation).\n",
            "  warnings.warn('`model.predict_classes()` is deprecated and '\n"
          ],
          "name": "stderr"
        }
      ]
    },
    {
      "cell_type": "code",
      "metadata": {
        "id": "dbQHFJjIwthl",
        "colab": {
          "base_uri": "https://localhost:8080/"
        },
        "outputId": "806e972a-127f-4656-a20e-aecbf50b8130"
      },
      "source": [
        "test_generator.class_indices"
      ],
      "execution_count": null,
      "outputs": [
        {
          "output_type": "execute_result",
          "data": {
            "text/plain": [
              "{'Cancerous': 0, 'Normal': 1}"
            ]
          },
          "metadata": {
            "tags": []
          },
          "execution_count": 15
        }
      ]
    },
    {
      "cell_type": "code",
      "metadata": {
        "id": "8utuYTVZK01z",
        "colab": {
          "base_uri": "https://localhost:8080/"
        },
        "outputId": "9d852f15-53fe-4ddf-b3ca-69f3389a7fc1"
      },
      "source": [
        "preds"
      ],
      "execution_count": null,
      "outputs": [
        {
          "output_type": "execute_result",
          "data": {
            "text/plain": [
              "array([0, 0, 0, 0, 0, 0, 0, 0, 0, 0, 0, 0, 1, 0, 1, 0, 0, 0, 0, 0, 0, 0,\n",
              "       0, 0, 1, 0, 0, 0, 0, 0, 0, 0, 1, 0, 1, 0, 1, 0, 1, 0, 1, 0, 1, 0,\n",
              "       0, 0, 0, 0, 0, 0, 0, 1, 0, 1, 0, 1, 0, 0, 0, 0, 0, 0, 0, 0, 0, 0,\n",
              "       0, 0, 0, 0, 0, 0, 0, 1, 0, 1, 0, 0, 0, 0, 0, 0, 0, 0, 0, 0, 0, 0,\n",
              "       0, 0, 0, 1, 0, 0, 0, 0, 0, 0, 0, 0, 0, 0, 0, 0, 0, 0, 0, 0, 1, 0,\n",
              "       0, 0, 0, 1, 1, 1, 1, 0, 1, 0, 0, 0, 1, 1, 1, 1, 0, 1, 1, 0, 1, 1,\n",
              "       1, 1, 1, 1, 1, 1])"
            ]
          },
          "metadata": {
            "tags": []
          },
          "execution_count": 16
        }
      ]
    },
    {
      "cell_type": "code",
      "metadata": {
        "id": "oobYj-z3WadC"
      },
      "source": [
        " labels = test_generator.labels"
      ],
      "execution_count": null,
      "outputs": []
    },
    {
      "cell_type": "code",
      "metadata": {
        "id": "nPx05jG8Ne4P"
      },
      "source": [
        "from sklearn.metrics import roc_curve, auc\n",
        "from sklearn.metrics import roc_auc_score\n",
        "\n",
        "fpr, tpr, _ = roc_curve(labels, preds)\n",
        "roc_auc = auc(fpr, tpr)"
      ],
      "execution_count": null,
      "outputs": []
    },
    {
      "cell_type": "markdown",
      "metadata": {
        "id": "fG_l_uIQWTWk"
      },
      "source": [
        ""
      ]
    },
    {
      "cell_type": "code",
      "metadata": {
        "id": "WtHhF3PQVfwg"
      },
      "source": [
        "from sklearn.metrics import roc_curve, auc\n",
        "from sklearn.metrics import roc_auc_score\n",
        "def plot_roc(name, labels, preds):\n",
        "  fp, tp, _ = sklearn.metrics.roc_curve(labels, preds)\n",
        "\n",
        "  plt.plot(100*fp, 100*tp, label=name, linewidth=2)\n",
        "  plt.xlabel('False positives [%]')\n",
        "  plt.ylabel('True positives [%]')\n",
        "  plt.xlim([-0.5,100])\n",
        "  plt.ylim([0,100.5])\n",
        "  plt.grid(True)\n",
        "  ax = plt.gca()\n",
        "  ax.set_aspect('equal')"
      ],
      "execution_count": null,
      "outputs": []
    },
    {
      "cell_type": "code",
      "metadata": {
        "id": "GHLmx6LXVxhY",
        "colab": {
          "base_uri": "https://localhost:8080/",
          "height": 299
        },
        "outputId": "a8dee3a3-6824-4b60-a8a0-b6d1f5f19019"
      },
      "source": [
        "from sklearn.metrics import roc_curve, auc\n",
        "from sklearn.metrics import roc_auc_score\n",
        "#plot_roc(\"Train Baseline\", train_labels, train_predictions_baseline, color=colors[0])\n",
        "plot_roc(\"Test Baseline\", labels, preds)\n",
        "plt.legend(loc='lower right')"
      ],
      "execution_count": null,
      "outputs": [
        {
          "output_type": "execute_result",
          "data": {
            "text/plain": [
              "<matplotlib.legend.Legend at 0x7fb87acd59d0>"
            ]
          },
          "metadata": {
            "tags": []
          },
          "execution_count": 20
        },
        {
          "output_type": "display_data",
          "data": {
            "image/png": "[encoded data removed]",
            "text/plain": [
              "<Figure size 432x288 with 1 Axes>"
            ]
          },
          "metadata": {
            "tags": [],
            "needs_background": "light"
          }
        }
      ]
    },
    {
      "cell_type": "code",
      "metadata": {
        "id": "U3P-Yb-zNsfY",
        "colab": {
          "base_uri": "https://localhost:8080/",
          "height": 295
        },
        "outputId": "d430ecb4-f041-4c16-e2a4-79b3d330ce60"
      },
      "source": [
        "plt.figure()\n",
        "lw = 3\n",
        "plt.plot(fpr, tpr, color='darkorange',\n",
        "         lw=lw, label='ROC curve (area = %0.2f)' % roc_auc)\n",
        "plt.plot([0, 1], [0, 1], color='navy', lw=lw, linestyle='--')\n",
        "plt.xlim([0.0, 1.0])\n",
        "plt.ylim([0.0, 1.05])\n",
        "plt.xlabel('False Positive Rate')\n",
        "plt.ylabel('True Positive Rate')\n",
        "plt.title('Receiver Operating Characteristic')\n",
        "plt.legend(loc=\"lower right\")\n",
        "plt.show()"
      ],
      "execution_count": null,
      "outputs": [
        {
          "output_type": "display_data",
          "data": {
            "image/png": "[encoded data removed]",
            "text/plain": [
              "<Figure size 432x288 with 1 Axes>"
            ]
          },
          "metadata": {
            "tags": [],
            "needs_background": "light"
          }
        }
      ]
    },
    {
      "cell_type": "code",
      "metadata": {
        "id": "Wh3LUnZiOPI4",
        "colab": {
          "base_uri": "https://localhost:8080/",
          "height": 329
        },
        "outputId": "f28220d7-3fde-4425-c37b-0a148004162e"
      },
      "source": [
        "\n",
        "# Example of a confusion matrix in Python\n",
        "from sklearn.metrics import confusion_matrix\n",
        "expected = labels\n",
        "predicted = preds\n",
        "results = confusion_matrix(expected, predicted)\n",
        "print(results)\n",
        "\n",
        "import seaborn as sns\n",
        "import matplotlib.pyplot as plt     \n",
        "\n",
        "ax= plt.subplot()\n",
        "sns.heatmap(results, annot=True, ax = ax); #annot=True to annotate cells\n",
        "\n",
        "# labels, title and ticks\n",
        "ax.set_xlabel('Predicted labels');ax.set_ylabel('True labels'); \n",
        "ax.set_title('Confusion Matrix'); \n",
        "ax.xaxis.set_ticklabels(['0', '1']); ax.yaxis.set_ticklabels(['0', '1']);"
      ],
      "execution_count": null,
      "outputs": [
        {
          "output_type": "stream",
          "text": [
            "[[97 16]\n",
            " [ 6 19]]\n"
          ],
          "name": "stdout"
        },
        {
          "output_type": "display_data",
          "data": {
            "image/png": "[encoded data removed]",
            "text/plain": [
              "<Figure size 432x288 with 2 Axes>"
            ]
          },
          "metadata": {
            "tags": [],
            "needs_background": "light"
          }
        }
      ]
    },
    {
      "cell_type": "code",
      "metadata": {
        "id": "v7kKbOO13rJD",
        "colab": {
          "base_uri": "https://localhost:8080/",
          "height": 295
        },
        "outputId": "916ab8b5-3255-43e3-8746-acc0dba62f6a"
      },
      "source": [
        "import seaborn as sns\n",
        "import matplotlib.pyplot as plt \n",
        "from sklearn.metrics import confusion_matrix \n",
        "\n",
        "plt.imshow(results,cmap=plt.cm.Blues,interpolation='nearest')\n",
        "plt.colorbar()\n",
        "plt.title('Confusion Matrix without Normalization')\n",
        "plt.xlabel('Predicted')\n",
        "plt.ylabel('Actual')\n",
        "tick_marks = np.arange(len(set(labels))) # length of classes\n",
        "class_labels = ['0','1']\n",
        "tick_marks\n",
        "plt.xticks(tick_marks,class_labels)\n",
        "plt.yticks(tick_marks,class_labels)\n",
        "# plotting text value inside cells\n",
        "thresh = results.max() / 2.\n",
        "for i,j in itertools.product(range(results.shape[0]),range(results.shape[1])):\n",
        "    plt.text(j,i,format(results[i,j],'d'),horizontalalignment='center',color='white' if results[i,j] >thresh else 'black')\n",
        "plt.show();"
      ],
      "execution_count": null,
      "outputs": [
        {
          "output_type": "display_data",
          "data": {
            "image/png": "[encoded data removed]",
            "text/plain": [
              "<Figure size 432x288 with 2 Axes>"
            ]
          },
          "metadata": {
            "tags": [],
            "needs_background": "light"
          }
        }
      ]
    },
    {
      "cell_type": "code",
      "metadata": {
        "id": "LNwxqvruKUpx",
        "colab": {
          "base_uri": "https://localhost:8080/"
        },
        "outputId": "d1c790e7-4fa5-4af8-b673-7fdc47e7dcad"
      },
      "source": [
        "from sklearn.metrics import precision_recall_fscore_support\n",
        "y_true = labels\n",
        "y_pred = preds\n",
        "precision_recall_fscore_support(labels, preds, average='macro')"
      ],
      "execution_count": null,
      "outputs": [
        {
          "output_type": "execute_result",
          "data": {
            "text/plain": [
              "(0.7423023578363384, 0.8092035398230089, 0.7657407407407406, None)"
            ]
          },
          "metadata": {
            "tags": []
          },
          "execution_count": 24
        }
      ]
    },
    {
      "cell_type": "code",
      "metadata": {
        "id": "lK9MUP7oFuRi"
      },
      "source": [
        ""
      ],
      "execution_count": null,
      "outputs": []
    }
  ]
}